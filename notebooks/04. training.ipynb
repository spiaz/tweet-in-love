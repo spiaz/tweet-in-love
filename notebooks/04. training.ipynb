{
 "cells": [
  {
   "cell_type": "code",
   "execution_count": 1,
   "metadata": {},
   "outputs": [
    {
     "name": "stdout",
     "output_type": "stream",
     "text": [
      "/Users/piazza/Playground/tweet-in-love\n"
     ]
    }
   ],
   "source": [
    "%run 00.style.ipynb"
   ]
  },
  {
   "cell_type": "code",
   "execution_count": 2,
   "metadata": {},
   "outputs": [],
   "source": [
    "from tweet_in_love.settings import GlobalSettings, ModelSettings"
   ]
  },
  {
   "cell_type": "markdown",
   "metadata": {},
   "source": [
    "# Train `web_sm`"
   ]
  },
  {
   "cell_type": "code",
   "execution_count": 3,
   "metadata": {},
   "outputs": [],
   "source": [
    "tag = \"web_sm\"\n",
    "settings = GlobalSettings(tag=tag)\n",
    "model_settings = ModelSettings(tag=tag, version=1)"
   ]
  },
  {
   "cell_type": "code",
   "execution_count": 4,
   "metadata": {},
   "outputs": [
    {
     "data": {
      "text/plain": [
       "(PosixPath('models/model_web_sm_01/web_sm_01.cfg'),\n",
       " PosixPath('models/model_web_sm_01/config.cfg'))"
      ]
     },
     "execution_count": 4,
     "metadata": {},
     "output_type": "execute_result"
    }
   ],
   "source": [
    "settings.train_spacy_path\n",
    "model_settings.model_path\n",
    "model_settings.model_cfg, model_settings.model_full_cfg"
   ]
  },
  {
   "cell_type": "code",
   "execution_count": 6,
   "metadata": {},
   "outputs": [],
   "source": [
    "model_settings.create_folder()"
   ]
  },
  {
   "cell_type": "code",
   "execution_count": 7,
   "metadata": {},
   "outputs": [
    {
     "name": "stdout",
     "output_type": "stream",
     "text": [
      "\u001b[38;5;2m✔ Auto-filled config with all values\u001b[0m\n",
      "\u001b[38;5;2m✔ Saved config\u001b[0m\n",
      "models/model_web_sm_01/config.cfg\n",
      "You can now add your data and train your pipeline:\n",
      "python -m spacy train config.cfg --paths.train ./train.spacy --paths.dev ./dev.spacy\n"
     ]
    }
   ],
   "source": [
    "!poetry run spacy init fill-config $model_settings.model_cfg $model_settings.model_full_cfg"
   ]
  },
  {
   "cell_type": "raw",
   "metadata": {},
   "source": [
    "from spacy.cli.train import train\n",
    "\n",
    "train(\n",
    "    model_settings.model_cfg,\n",
    "    output_path=model_settings.model_path,\n",
    "    overrides={\n",
    "        \"paths.train\": settings.train_spacy_path,\n",
    "        \"paths.dev\": settings.test_spacy_path,\n",
    "    },\n",
    ")"
   ]
  },
  {
   "cell_type": "code",
   "execution_count": null,
   "metadata": {},
   "outputs": [
    {
     "name": "stdout",
     "output_type": "stream",
     "text": [
      "\u001b[38;5;4mℹ Saving to output directory: models/model_web_sm_01\u001b[0m\n",
      "\u001b[38;5;4mℹ Using CPU\u001b[0m\n",
      "\u001b[1m\n",
      "=========================== Initializing pipeline ===========================\u001b[0m\n",
      "[2021-12-14 17:10:04,994] [INFO] Set up nlp object from config\n",
      "[2021-12-14 17:10:05,005] [INFO] Pipeline: ['textcat']\n",
      "[2021-12-14 17:10:05,009] [INFO] Created vocabulary\n",
      "[2021-12-14 17:10:05,012] [INFO] Finished initializing nlp object\n",
      "[2021-12-14 17:10:43,001] [INFO] Initialized pipeline components: ['textcat']\n",
      "\u001b[38;5;2m✔ Initialized pipeline\u001b[0m\n",
      "\u001b[1m\n",
      "============================= Training pipeline =============================\u001b[0m\n",
      "\u001b[38;5;4mℹ Pipeline: ['textcat']\u001b[0m\n",
      "\u001b[38;5;4mℹ Initial learn rate: 0.001\u001b[0m\n",
      "E    #       LOSS TEXTCAT  CATS_SCORE  SCORE \n",
      "---  ------  ------------  ----------  ------\n",
      "  0       0          0.06        0.00    0.00\n",
      "  0     200          5.62        0.07    0.00\n",
      "  0     400          3.15        0.03    0.00\n",
      "  0     600          2.10        0.33    0.00\n",
      "  0     800          1.29        0.72    0.01\n"
     ]
    }
   ],
   "source": [
    "! poetry run spacy train $model_settings.model_full_cfg --output $model_settings.model_path --paths.train $settings.train_spacy_path --paths.dev $settings.test_spacy_path\n",
    "\n"
   ]
  },
  {
   "cell_type": "code",
   "execution_count": null,
   "metadata": {},
   "outputs": [],
   "source": []
  },
  {
   "cell_type": "code",
   "execution_count": null,
   "metadata": {},
   "outputs": [],
   "source": []
  },
  {
   "cell_type": "code",
   "execution_count": null,
   "metadata": {},
   "outputs": [],
   "source": []
  }
 ],
 "metadata": {
  "interpreter": {
   "hash": "da01abadec455ad4ff2e8fad09fcb6f1aa80f0c03ee641ba501c7d7694d44b8e"
  },
  "kernelspec": {
   "display_name": "Python 3 (ipykernel)",
   "language": "python",
   "name": "python3"
  },
  "language_info": {
   "codemirror_mode": {
    "name": "ipython",
    "version": 3
   },
   "file_extension": ".py",
   "mimetype": "text/x-python",
   "name": "python",
   "nbconvert_exporter": "python",
   "pygments_lexer": "ipython3",
   "version": "3.9.5"
  }
 },
 "nbformat": 4,
 "nbformat_minor": 4
}
