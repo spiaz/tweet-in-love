{
 "cells": [
  {
   "cell_type": "code",
   "execution_count": 1,
   "metadata": {},
   "outputs": [
    {
     "name": "stdout",
     "output_type": "stream",
     "text": [
      "/Users/piazza/Playground/tweet-in-love\n"
     ]
    }
   ],
   "source": [
    "%run 00.style.ipynb"
   ]
  },
  {
   "cell_type": "code",
   "execution_count": 2,
   "metadata": {},
   "outputs": [],
   "source": [
    "from tweet_in_love.settings import GlobalSettings, ModelSettings"
   ]
  },
  {
   "cell_type": "markdown",
   "metadata": {},
   "source": [
    "# Train `web_sm`\n",
    "\n",
    "In this notebook we fit a pretrained NN model on the data.\n",
    "\n",
    "I'm using the small one, because in my computer a larger one would take ages..."
   ]
  },
  {
   "cell_type": "code",
   "execution_count": 3,
   "metadata": {},
   "outputs": [],
   "source": [
    "tag = \"web_sm\"\n",
    "settings = GlobalSettings(tag=tag)\n",
    "model_settings = ModelSettings(tag=tag, version=1)"
   ]
  },
  {
   "cell_type": "code",
   "execution_count": 4,
   "metadata": {},
   "outputs": [
    {
     "data": {
      "text/plain": [
       "(PosixPath('models/model_web_sm_01/web_sm_01.cfg'),\n",
       " PosixPath('models/model_web_sm_01/config.cfg'))"
      ]
     },
     "execution_count": 4,
     "metadata": {},
     "output_type": "execute_result"
    }
   ],
   "source": [
    "settings.train_spacy_path\n",
    "model_settings.model_path\n",
    "model_settings.model_cfg, model_settings.model_full_cfg"
   ]
  },
  {
   "cell_type": "code",
   "execution_count": 6,
   "metadata": {},
   "outputs": [],
   "source": [
    "model_settings.create_folder()"
   ]
  },
  {
   "cell_type": "markdown",
   "metadata": {},
   "source": [
    "The configuration for the pipeline is defined in `models/model_web_sm_01/web_sm_01.cfg`."
   ]
  },
  {
   "cell_type": "code",
   "execution_count": 7,
   "metadata": {},
   "outputs": [
    {
     "name": "stdout",
     "output_type": "stream",
     "text": [
      "\u001b[38;5;2m✔ Auto-filled config with all values\u001b[0m\n",
      "\u001b[38;5;2m✔ Saved config\u001b[0m\n",
      "models/model_web_sm_01/config.cfg\n",
      "You can now add your data and train your pipeline:\n",
      "python -m spacy train config.cfg --paths.train ./train.spacy --paths.dev ./dev.spacy\n"
     ]
    }
   ],
   "source": [
    "# All paramters not manually specified are then filled with the following command.\n",
    "!poetry run spacy init fill-config $model_settings.model_cfg $model_settings.model_full_cfg"
   ]
  },
  {
   "cell_type": "code",
   "execution_count": 8,
   "metadata": {},
   "outputs": [
    {
     "name": "stdout",
     "output_type": "stream",
     "text": [
      "\u001b[38;5;4mℹ Saving to output directory: models/model_web_sm_01\u001b[0m\n",
      "\u001b[38;5;4mℹ Using CPU\u001b[0m\n",
      "\u001b[1m\n",
      "=========================== Initializing pipeline ===========================\u001b[0m\n",
      "[2021-12-14 17:10:04,994] [INFO] Set up nlp object from config\n",
      "[2021-12-14 17:10:05,005] [INFO] Pipeline: ['textcat']\n",
      "[2021-12-14 17:10:05,009] [INFO] Created vocabulary\n",
      "[2021-12-14 17:10:05,012] [INFO] Finished initializing nlp object\n",
      "[2021-12-14 17:10:43,001] [INFO] Initialized pipeline components: ['textcat']\n",
      "\u001b[38;5;2m✔ Initialized pipeline\u001b[0m\n",
      "\u001b[1m\n",
      "============================= Training pipeline =============================\u001b[0m\n",
      "\u001b[38;5;4mℹ Pipeline: ['textcat']\u001b[0m\n",
      "\u001b[38;5;4mℹ Initial learn rate: 0.001\u001b[0m\n",
      "E    #       LOSS TEXTCAT  CATS_SCORE  SCORE \n",
      "---  ------  ------------  ----------  ------\n",
      "  0       0          0.06        0.00    0.00\n",
      "  0     200          5.62        0.07    0.00\n",
      "  0     400          3.15        0.03    0.00\n",
      "  0     600          2.10        0.33    0.00\n",
      "  0     800          1.29        0.72    0.01\n",
      "  0    1000          0.82        1.10    0.01\n",
      "  0    1200          0.53        1.21    0.01\n",
      "  0    1400          0.35        1.80    0.02\n",
      "  0    1600          0.24        1.91    0.02\n",
      "  0    1800          0.16        2.02    0.02\n",
      "  1    2000          0.10        2.66    0.03\n",
      "  1    2200          0.06        3.04    0.03\n",
      "  1    2400          0.04        3.19    0.03\n",
      "  2    2600          0.04        3.68    0.04\n",
      "  2    2800          0.04        4.11    0.04\n",
      "  3    3000          0.04        4.48    0.04\n",
      "  3    3200          0.03        4.86    0.05\n",
      "  3    3400          0.03        5.27    0.05\n",
      "  4    3600          0.03        5.57    0.06\n",
      "  4    3800          0.03        6.14    0.06\n",
      "  5    4000          0.03        6.37    0.06\n",
      "  5    4200          0.03        6.96    0.07\n",
      "  5    4400          0.03        7.19    0.07\n",
      "  6    4600          0.03        7.41    0.07\n",
      "  6    4800          0.03        7.59    0.08\n",
      "  6    5000          0.03        7.77    0.08\n",
      "  7    5200          0.03        8.03    0.08\n",
      "  7    5400          0.03        8.36    0.08\n",
      "  8    5600          0.03        8.51    0.09\n",
      "  8    5800          0.03        8.59    0.09\n",
      "  8    6000          0.03        8.86    0.09\n",
      "  9    6200          0.03        8.94    0.09\n",
      "  9    6400          0.02        9.18    0.09\n",
      " 10    6600          0.03        9.46    0.09\n",
      " 10    6800          0.02        9.60    0.10\n",
      " 10    7000          0.02        9.80    0.10\n",
      " 11    7200          0.02       10.02    0.10\n",
      " 11    7400          0.02       10.39    0.10\n",
      " 12    7600          0.02       10.20    0.10\n",
      " 12    7800          0.02       10.35    0.10\n",
      " 12    8000          0.02       10.45    0.10\n",
      " 13    8200          0.02       10.55    0.11\n",
      " 13    8400          0.02       10.62    0.11\n",
      " 13    8600          0.02       10.93    0.11\n",
      " 14    8800          0.02       10.94    0.11\n",
      " 14    9000          0.02       11.10    0.11\n",
      " 15    9200          0.02       11.07    0.11\n",
      " 15    9400          0.02       11.29    0.11\n",
      " 15    9600          0.02       11.20    0.11\n",
      " 16    9800          0.02       11.48    0.11\n",
      " 16   10000          0.02       11.64    0.12\n",
      " 17   10200          0.02       11.71    0.12\n",
      " 17   10400          0.02       11.87    0.12\n",
      " 17   10600          0.02       11.79    0.12\n",
      " 18   10800          0.02       11.88    0.12\n",
      " 18   11000          0.02       11.83    0.12\n",
      " 18   11200          0.02       12.01    0.12\n",
      " 19   11400          0.02       11.95    0.12\n",
      " 19   11600          0.02       12.26    0.12\n",
      " 20   11800          0.02       12.12    0.12\n",
      " 20   12000          0.02       12.24    0.12\n",
      " 20   12200          0.02       12.38    0.12\n",
      " 21   12400          0.02       12.41    0.12\n",
      " 21   12600          0.02       12.47    0.12\n",
      " 22   12800          0.02       12.26    0.12\n",
      " 22   13000          0.01       12.36    0.12\n",
      " 22   13200          0.01       12.43    0.12\n",
      " 23   13400          0.01       12.34    0.12\n",
      " 23   13600          0.01       12.34    0.12\n",
      " 24   13800          0.01       12.56    0.13\n",
      " 24   14000          0.01       12.45    0.12\n",
      " 24   14200          0.01       12.41    0.12\n",
      " 25   14400          0.01       12.58    0.13\n",
      " 25   14600          0.01       12.55    0.13\n",
      " 25   14800          0.01       12.76    0.13\n",
      " 26   15000          0.01       12.88    0.13\n",
      " 26   15200          0.01       12.72    0.13\n",
      " 27   15400          0.01       12.89    0.13\n",
      " 27   15600          0.01       12.78    0.13\n",
      " 27   15800          0.01       12.82    0.13\n",
      " 28   16000          0.01       12.92    0.13\n",
      " 28   16200          0.01       13.00    0.13\n",
      " 29   16400          0.01       13.04    0.13\n",
      " 29   16600          0.01       13.07    0.13\n",
      " 29   16800          0.01       13.07    0.13\n",
      " 30   17000          0.01       13.00    0.13\n",
      " 30   17200          0.01       13.10    0.13\n",
      " 31   17400          0.01       13.22    0.13\n",
      " 31   17600          0.01       13.33    0.13\n",
      " 31   17800          0.01       13.16    0.13\n",
      " 32   18000          0.01       13.25    0.13\n",
      " 32   18200          0.01       13.18    0.13\n",
      " 32   18400          0.01       13.36    0.13\n",
      " 33   18600          0.01       13.33    0.13\n",
      " 33   18800          0.01       13.41    0.13\n",
      " 34   19000          0.01       13.52    0.14\n",
      " 34   19200          0.01       13.50    0.13\n",
      " 34   19400          0.01       13.40    0.13\n",
      " 35   19600          0.01       13.51    0.14\n",
      " 35   19800          0.01       13.41    0.13\n",
      " 36   20000          0.01       13.51    0.14\n",
      "\u001b[38;5;2m✔ Saved pipeline to output directory\u001b[0m\n",
      "models/model_web_sm_01/model-last\n"
     ]
    }
   ],
   "source": [
    "# We are now ready to run the training...\n",
    "! poetry run spacy train $model_settings.model_full_cfg --output $model_settings.model_path --paths.train $settings.train_spacy_path --paths.dev $settings.test_spacy_path\n",
    "\n"
   ]
  },
  {
   "cell_type": "code",
   "execution_count": null,
   "metadata": {},
   "outputs": [],
   "source": []
  },
  {
   "cell_type": "code",
   "execution_count": null,
   "metadata": {},
   "outputs": [],
   "source": []
  },
  {
   "cell_type": "code",
   "execution_count": null,
   "metadata": {},
   "outputs": [],
   "source": []
  }
 ],
 "metadata": {
  "interpreter": {
   "hash": "da01abadec455ad4ff2e8fad09fcb6f1aa80f0c03ee641ba501c7d7694d44b8e"
  },
  "kernelspec": {
   "display_name": "Python 3 (ipykernel)",
   "language": "python",
   "name": "python3"
  },
  "language_info": {
   "codemirror_mode": {
    "name": "ipython",
    "version": 3
   },
   "file_extension": ".py",
   "mimetype": "text/x-python",
   "name": "python",
   "nbconvert_exporter": "python",
   "pygments_lexer": "ipython3",
   "version": "3.9.5"
  }
 },
 "nbformat": 4,
 "nbformat_minor": 4
}
