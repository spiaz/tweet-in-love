{
 "cells": [
  {
   "cell_type": "code",
   "execution_count": 1,
   "id": "58d45fa5",
   "metadata": {},
   "outputs": [
    {
     "name": "stdout",
     "output_type": "stream",
     "text": [
      "/Users/piazza/Playground/tweet-in-love\n"
     ]
    }
   ],
   "source": [
    "%matplotlib inline\n",
    "\n",
    "# set local path at package root level\n",
    "%cd ..\n",
    "\n",
    "# automatically reload library\n",
    "%load_ext autoreload\n",
    "%autoreload 2"
   ]
  },
  {
   "cell_type": "code",
   "execution_count": 2,
   "id": "5eb01cdb-1752-49fc-bbd1-52f7a40315e1",
   "metadata": {},
   "outputs": [],
   "source": [
    "import os\n",
    "\n",
    "import matplotlib.pyplot as plt\n",
    "import numpy as np\n",
    "import pandas as pd\n",
    "import seaborn as sns\n",
    "import random\n",
    "\n",
    "# seed\n",
    "np.random.seed(42) \n",
    "\n",
    "\n",
    "# define a global style for plots and pandas\n",
    "sns.set_style('white')\n",
    "sns.set_context('notebook')\n",
    "pd.set_option('max_rows', 1000)\n",
    "pd.set_option('max_columns', 100)\n",
    "\n",
    "def plot_style(figsize=(12, 6), labelsize=20, titlesize=24, ticklabelsize=14, **kwargs):\n",
    "   basic_style = {\n",
    "       'figure.figsize': figsize,\n",
    "       'axes.labelsize': labelsize,\n",
    "       'axes.titlesize': titlesize,\n",
    "       'xtick.labelsize': ticklabelsize,\n",
    "       'ytick.labelsize': ticklabelsize,\n",
    "       'axes.spines.top': False,\n",
    "       'axes.spines.right': False,\n",
    "       'axes.spines.left': False,\n",
    "       'axes.grid': False,\n",
    "       'axes.grid.axis': 'y',\n",
    "   }\n",
    "   basic_style.update(kwargs)\n",
    "   return plt.rc_context(rc=basic_style)\n",
    "\n",
    "blue = sns.xkcd_rgb['ocean blue']\n"
   ]
  },
  {
   "cell_type": "code",
   "execution_count": null,
   "id": "7d50f545-8b59-4302-8fbc-309c571c880c",
   "metadata": {},
   "outputs": [],
   "source": []
  },
  {
   "cell_type": "code",
   "execution_count": null,
   "id": "0ae63a27",
   "metadata": {},
   "outputs": [],
   "source": []
  }
 ],
 "metadata": {
  "kernelspec": {
   "display_name": "Python 3 (ipykernel)",
   "language": "python",
   "name": "python3"
  },
  "language_info": {
   "codemirror_mode": {
    "name": "ipython",
    "version": 3
   },
   "file_extension": ".py",
   "mimetype": "text/x-python",
   "name": "python",
   "nbconvert_exporter": "python",
   "pygments_lexer": "ipython3",
   "version": "3.9.5"
  }
 },
 "nbformat": 4,
 "nbformat_minor": 5
}
